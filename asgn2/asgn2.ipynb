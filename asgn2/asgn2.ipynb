{
 "cells": [
  {
   "cell_type": "code",
   "execution_count": 52,
   "metadata": {},
   "outputs": [],
   "source": [
    "import numpy as np, matplotlib.pyplot as plt \n",
    "import torch\n",
    "import pickle\n",
    "from PIL import Image"
   ]
  },
  {
   "cell_type": "code",
   "execution_count": 53,
   "metadata": {},
   "outputs": [
    {
     "name": "stdout",
     "output_type": "stream",
     "text": [
      "['airplane', 'automobile', 'bird', 'cat', 'deer', 'dog', 'frog', 'horse', 'ship', 'truck']\n"
     ]
    }
   ],
   "source": [
    "\n",
    "def unpickle(file):\n",
    "    import pickle\n",
    "    with open(file, 'rb') as fo:\n",
    "        dict = pickle.load(fo, encoding='latin1')\n",
    "    return dict\n",
    "\n",
    "def unpickle(filepath):\n",
    "    with open(filepath, 'rb') as fo:\n",
    "        dict = pickle.load(fo, encoding='latin1')\n",
    "    return dict\n",
    "\n",
    "dataset1 = unpickle(\"cifar-10-batches-py/data_batch_1\")\n",
    "metadatafile = r'cifar-10-batches-py\\batches.meta'\n",
    "metadata = unpickle(metadatafile)\n",
    "\n",
    "labels = metadata['label_names']\n",
    "print(labels)\n",
    "#print(dataset1[b'data'].shape)\n",
    "training_data = dataset1['data']\n",
    "training_data = training_data.reshape(len(training_data), 3, 32, 32)\n",
    "training_data = training_data.transpose(0, 2,3,1)\n",
    "training_labels = dataset1['labels']\n"
   ]
  },
  {
   "cell_type": "markdown",
   "metadata": {},
   "source": [
    "<font size = \"6\">Question 1: Single Convolution Function<font size= \"6\">"
   ]
  },
  {
   "cell_type": "code",
   "execution_count": 54,
   "metadata": {},
   "outputs": [
    {
     "name": "stdout",
     "output_type": "stream",
     "text": [
      "Image:\n"
     ]
    },
    {
     "data": {
      "image/png": "[encoded data removed]",
      "text/plain": [
       "<PIL.PngImagePlugin.PngImageFile image mode=RGBA size=200x219>"
      ]
     },
     "metadata": {},
     "output_type": "display_data"
    },
    {
     "name": "stdout",
     "output_type": "stream",
     "text": [
      "Kernel:\n",
      "[[-1 -1 -1]\n",
      " [-1  8 -1]\n",
      " [-1 -1 -1]]\n",
      "Image after convolution i.e activation map represented as greyscale image\n"
     ]
    },
    {
     "name": "stderr",
     "output_type": "stream",
     "text": [
      "C:\\Users\\Home\\AppData\\Local\\Temp\\ipykernel_16768\\878025512.py:3: RuntimeWarning: overflow encountered in exp\n",
      "  return (255 * (1 / (1 + np.exp(-x)))).astype(int)\n"
     ]
    },
    {
     "data": {
      "image/png": "[encoded data removed]",
      "text/plain": [
       "<PIL.Image.Image image mode=L size=202x221>"
      ]
     },
     "metadata": {},
     "output_type": "display_data"
    }
   ],
   "source": [
    "\n",
    "def sigmoid(x):\n",
    "    # * function modified to give accurate values for the int form of image representation\n",
    "    return (255 * (1 / (1 + np.exp(-x)))).astype(int)\n",
    "\n",
    "def relu(x):\n",
    "    return (x + np.abs(x)) / 2\n",
    "\n",
    "def prelu(x):\n",
    "    if (x > 0):\n",
    "        return x\n",
    "    else:\n",
    "        param = 0.25 * np.random.randn() #normally this parameter is stored somewhere and learned, here randomly generated every time \n",
    "        return param * x\n",
    "\n",
    "\n",
    "def get_conv_output_size(img, kernel, stride):\n",
    "    # * This function assumes that the image is already padded as necessary\n",
    "    x = int((img.shape[0] - kernel.shape[0]) / stride[0]) + 1\n",
    "    y = int((img.shape[1] - kernel.shape[1]) / stride[1]) + 1\n",
    "    z = img.shape[2]\n",
    "    return x, y, z\n",
    "\n",
    "def convolve(img, kernel, nlfunction, stride=[1,1], padding = [0,0]):\n",
    "    \n",
    "    \n",
    "    if any(padding): \n",
    " \n",
    "        x_pad_side = padding[0]\n",
    "        y_pad_side = padding[1]\n",
    "        \n",
    "        pad_matrix = np.zeros((img.shape[0] + x_pad_side*2, img.shape[1] + y_pad_side * 2, img.shape[2]))\n",
    "        \n",
    "        pad_matrix[x_pad_side:-x_pad_side, y_pad_side:-y_pad_side] = img\n",
    "\n",
    "        img = pad_matrix.astype(int)\n",
    " \n",
    "\n",
    "\n",
    "    x, y, z = get_conv_output_size(img, kernel, stride)\n",
    "    conv_output = np.zeros((x, y))\n",
    "\n",
    "\n",
    "    \n",
    "    # *works with stride now\n",
    "    for i in range(0, conv_output.shape[0]):\n",
    "        for j in range(0, conv_output.shape[1]):\n",
    "            \n",
    "            i1 = int(i*stride[0])\n",
    "            j1 = int(j*stride[1])\n",
    "            window = img[i1:i1 + kernel.shape[0], j1:j1 + kernel.shape[1]]\n",
    "            \n",
    "            \n",
    "            for k in range(window.shape[2]):#k is iterating fine\n",
    "                \n",
    "                conv_output[i, j] += np.sum(np.multiply(window[:, :, k], kernel)).astype(int)\n",
    "\n",
    "    \n",
    "    conv_output = nlfunction(conv_output)\n",
    "\n",
    "    return conv_output\n",
    "\n",
    "sharpen = np.array([\n",
    "    [0, -1, 0],\n",
    "    [-1, 5, -1],\n",
    "    [0, -1, 0]\n",
    "])\n",
    "outline = np.array([\n",
    "    [-1, -1, -1],\n",
    "    [-1,  8, -1],\n",
    "    [-1, -1, -1]\n",
    "])\n",
    "blur = np.array([\n",
    "    [0.0625, 0.125, 0.0625],\n",
    "    [0.125,  0.25,  0.125],\n",
    "    [0.0625, 0.125, 0.0625]\n",
    "])\n",
    "emboss = np.array([\n",
    "    [-2, -1, 0],\n",
    "    [-1, 1, 1],\n",
    "    [0, 1, 2]\n",
    "])\n",
    "\n",
    "\n",
    "img = Image.open('iithins.png')\n",
    "\n",
    "print(\"Image:\")\n",
    "display(img)\n",
    "\n",
    "image = np.asarray(img)\n",
    "print(\"Kernel:\")\n",
    "print(outline)\n",
    "convimg = convolve(image, outline, sigmoid, stride=[1,1], padding=[2, 2])\n",
    "\n",
    "convimage = Image.fromarray(convimg.astype('uint8'))\n",
    "\n",
    "print(\"Image after convolution i.e activation map represented as greyscale image\")\n",
    "display(convimage) \n"
   ]
  },
  {
   "cell_type": "markdown",
   "metadata": {},
   "source": [
    "<font size = \"6\">Question 2: Pooling Function<font size= \"6\">"
   ]
  },
  {
   "cell_type": "code",
   "execution_count": 55,
   "metadata": {},
   "outputs": [
    {
     "data": {
      "image/png": "[encoded data removed]",
      "text/plain": [
       "<PIL.PngImagePlugin.PngImageFile image mode=RGBA size=200x219>"
      ]
     },
     "metadata": {},
     "output_type": "display_data"
    },
    {
     "data": {
      "image/png": "[encoded data removed]",
      "text/plain": [
       "<PIL.Image.Image image mode=RGBA size=66x73>"
      ]
     },
     "metadata": {},
     "output_type": "display_data"
    }
   ],
   "source": [
    "def get_pool_output_size(img, pooling_function_size, stride):\n",
    "    x = int((img.shape[0] - pooling_function_size[0])/stride[0]) + 1\n",
    "    y = int((img.shape[1] - pooling_function_size[1])/stride[1]) + 1\n",
    "    z=0\n",
    "    if(len(img.shape) < 3):\n",
    "        z = 1\n",
    "    else:\n",
    "        z = img.shape[2]\n",
    "    return x, y, z\n",
    "\n",
    "def max_pool_3x3(matrix):\n",
    "    return matrix.max()\n",
    "\n",
    "def max_pool_2x2(matrix): #this function and the preceding function assume that the matrix given is of the correct size\n",
    "    return matrix.max()\n",
    "\n",
    "\n",
    "def pooling(img, pool_function, pooling_function_size, stride):\n",
    "     \n",
    "    x, y, z = get_pool_output_size(img, pooling_function_size, stride)\n",
    "\n",
    "    pool_output = np.zeros((x,y,z))\n",
    "    #print(pool_output.shape[2])\n",
    "    for i in range(pool_output.shape[0]):\n",
    "        for j in range(pool_output.shape[1]):\n",
    "\n",
    "            i1 = i*stride[0]\n",
    "            j1 = j*stride[1]\n",
    "            window = img[i1:i1 + pooling_function_size[0], j1:j1 + pooling_function_size[1]]\n",
    "\n",
    "            for k in range(pool_output.shape[2]):\n",
    "                pool_output[i, j, k] = pool_function(window[:, :, k])\n",
    "            \n",
    "    return pool_output\n",
    "\n",
    "\n",
    "img = Image.open('iithins.png')\n",
    "\n",
    "display(img)\n",
    "\n",
    "image = np.asarray(img)\n",
    "\n",
    "poolimg = pooling(image, max_pool_3x3, np.array([3,3]), np.array([3,3]))\n",
    "\n",
    "poolimage = Image.fromarray(poolimg.astype('uint8'))\n",
    "\n",
    "display(poolimage) \n",
    "\n",
    "\n"
   ]
  },
  {
   "cell_type": "markdown",
   "metadata": {},
   "source": [
    "<font size = \"6\">Question 3: Convolution Layer Function<font size= \"6\">"
   ]
  },
  {
   "cell_type": "code",
   "execution_count": 56,
   "metadata": {},
   "outputs": [
    {
     "name": "stdout",
     "output_type": "stream",
     "text": [
      "Image:\n"
     ]
    },
    {
     "data": {
      "image/png": "[encoded data removed]",
      "text/plain": [
       "<PIL.PngImagePlugin.PngImageFile image mode=RGBA size=200x219>"
      ]
     },
     "metadata": {},
     "output_type": "display_data"
    },
    {
     "name": "stdout",
     "output_type": "stream",
     "text": [
      "Kernels:\n",
      "[[[ 0.0625  0.125   0.0625]\n",
      "  [ 0.125   0.25    0.125 ]\n",
      "  [ 0.0625  0.125   0.0625]]\n",
      "\n",
      " [[ 0.     -1.      0.    ]\n",
      "  [-1.      5.     -1.    ]\n",
      "  [ 0.     -1.      0.    ]]\n",
      "\n",
      " [[-1.     -1.     -1.    ]\n",
      "  [-1.      8.     -1.    ]\n",
      "  [-1.     -1.     -1.    ]]\n",
      "\n",
      " [[-2.     -1.      0.    ]\n",
      "  [-1.      1.      1.    ]\n",
      "  [ 0.      1.      2.    ]]]\n",
      "output:\n",
      "[[[ 0.  0.  0.  0.]\n",
      "  [ 0.  0.  0.  0.]\n",
      "  [ 0.  0.  0.  0.]\n",
      "  ...\n",
      "  [ 0.  0.  0.  0.]\n",
      "  [ 0.  0.  0.  0.]\n",
      "  [ 0.  0.  0.  0.]]\n",
      "\n",
      " [[ 0.  0.  0.  0.]\n",
      "  [ 0.  0.  0.  0.]\n",
      "  [ 0.  0.  0.  0.]\n",
      "  ...\n",
      "  [ 0.  0.  0.  0.]\n",
      "  [ 0.  0.  0.  0.]\n",
      "  [ 0.  0.  0.  0.]]\n",
      "\n",
      " [[ 0.  0.  0.  0.]\n",
      "  [ 0.  0.  0.  0.]\n",
      "  [ 0.  0.  0.  0.]\n",
      "  ...\n",
      "  [ 0.  0.  0.  0.]\n",
      "  [ 0.  0.  0.  0.]\n",
      "  [ 0.  0.  0.  0.]]\n",
      "\n",
      " ...\n",
      "\n",
      " [[ 8.  0.  0.  0.]\n",
      "  [10.  0.  0.  0.]\n",
      "  [ 4.  0.  0.  0.]\n",
      "  ...\n",
      "  [ 4.  0.  0.  0.]\n",
      "  [ 4.  0.  0.  0.]\n",
      "  [ 7.  0.  0.  0.]]\n",
      "\n",
      " [[ 0.  0.  0.  0.]\n",
      "  [ 0.  0.  0.  0.]\n",
      "  [ 0.  0.  0.  0.]\n",
      "  ...\n",
      "  [ 0.  0.  0.  0.]\n",
      "  [ 0.  0.  0.  0.]\n",
      "  [ 0.  0.  0.  0.]]\n",
      "\n",
      " [[ 0.  0.  0.  0.]\n",
      "  [ 0.  0.  0.  0.]\n",
      "  [ 0.  0.  0.  0.]\n",
      "  ...\n",
      "  [ 0.  0.  0.  0.]\n",
      "  [ 0.  0.  0.  0.]\n",
      "  [ 0.  0.  0.  0.]]]\n",
      "The shape of the output for 4 kernels is:\n",
      "(217, 198, 4)\n"
     ]
    }
   ],
   "source": [
    "def convolution_layer(img, kernels, kernel_dims, stride, padding, nlfunction):\n",
    "    \n",
    "    if padding.any(): \n",
    "        #let's do the padding first\n",
    "        x_pad_side = padding[0]\n",
    "        y_pad_side = padding[1]\n",
    "        \n",
    "        pad_matrix = np.zeros((img.shape[0] + x_pad_side*2, img.shape[1] + y_pad_side * 2, img.shape[2]))\n",
    "        \n",
    "        pad_matrix[x_pad_side:-x_pad_side, y_pad_side:-y_pad_side] = img\n",
    "\n",
    "        img = pad_matrix.astype(int)\n",
    "    \n",
    "    #we want kernels to be n x dim1 x dim2\n",
    "    #so that we can iterate over them\n",
    "\n",
    "    conv_layer_output = [] #let's add every elem to a list, then concat them into one numpy array\n",
    "    for i in range(kernels.shape[0]):\n",
    "\n",
    "        conv_layer_output.append(convolve(img, kernels[i], nlfunction, stride[i], padding[i]))\n",
    "\n",
    "    output = np.stack(conv_layer_output, axis=0)\n",
    "    output = np.transpose(output, (1,2,0))\n",
    "    return output\n",
    "    \n",
    "    \n",
    "kerns = np.stack((blur,sharpen, outline, emboss), axis = 0)\n",
    "\n",
    "img = Image.open('iithins.png')\n",
    "\n",
    "print(\"Image:\")\n",
    "display(img)\n",
    "\n",
    "print(\"Kernels:\")\n",
    "print(kerns)\n",
    "\n",
    "\n",
    "image = np.asarray(img)\n",
    "op = convolution_layer(image, kerns, kerns.shape, np.ones((4,2)), np.zeros((4,2)), relu)\n",
    "print(\"output:\")\n",
    "print(op)\n",
    "\n",
    "print(\"The shape of the output for 4 kernels is:\")\n",
    "print(op.shape)"
   ]
  },
  {
   "cell_type": "markdown",
   "metadata": {},
   "source": [
    "<font size = \"6\">Question 4: Pooling Layer Function<font size= \"6\">"
   ]
  },
  {
   "cell_type": "code",
   "execution_count": 57,
   "metadata": {},
   "outputs": [
    {
     "data": {
      "image/png": "[encoded data removed]",
      "text/plain": [
       "<PIL.PngImagePlugin.PngImageFile image mode=RGBA size=200x219>"
      ]
     },
     "metadata": {},
     "output_type": "display_data"
    },
    {
     "data": {
      "image/png": "[encoded data removed]",
      "text/plain": [
       "<PIL.Image.Image image mode=RGBA size=66x73>"
      ]
     },
     "metadata": {},
     "output_type": "display_data"
    }
   ],
   "source": [
    "def avg_pool_3x3(matrix):\n",
    "    return int(1 / 9 * matrix.sum())\n",
    "\n",
    "def avg_pool_global(matrix):\n",
    "    return int( 1 / (matrix.shape[0] * matrix.shape[1]) * matrix.sum())\n",
    "\n",
    "def pooling_layer(img, pooling_function, pooling_function_size, stride, GAP=False): #we can do that if GAP is true, then the content of the other fields can be set to 0\n",
    "   \n",
    "    \n",
    "    #here we will have global average pooling be an optional, that means that we can put 0, 0, 0 everywhere and it won't matter\n",
    "    if GAP:\n",
    "        #implementation of global average pooling \n",
    "        output = np.zeros((img.shape[2]))\n",
    "        for i in range(img.shape[2]):\n",
    "            output[i] = avg_pool_global(img[:, :, i])\n",
    "    \n",
    "    else:\n",
    "        #case without global average pooling, in this case we just use the earlier defined pooling function\n",
    "        #this function pools all the channels with the same pooling function\n",
    "        output = pooling(img, pooling_function, pooling_function_size, stride)\n",
    "    \n",
    "    return output\n",
    "\n",
    "\n",
    "\n",
    "img = Image.open('iithins.png')\n",
    "\n",
    "display(img)\n",
    "\n",
    "image = np.asarray(img)\n",
    "\n",
    "poolimg = pooling_layer(image, max_pool_3x3, np.array([3,3]),  np.array([3,3]), GAP=False)\n",
    "\n",
    "poolimage = Image.fromarray(poolimg.astype('uint8'))\n",
    "\n",
    "display(poolimage) \n"
   ]
  },
  {
   "cell_type": "markdown",
   "metadata": {},
   "source": [
    "<font size = \"6\">Question 5:Flattening Function<font size= \"6\">"
   ]
  },
  {
   "cell_type": "code",
   "execution_count": 58,
   "metadata": {},
   "outputs": [
    {
     "name": "stdout",
     "output_type": "stream",
     "text": [
      "[-9.41062260e+03 -9.40513760e+03  1.39864274e+04  1.79798287e+04\n",
      " -4.19480080e+03 -6.73567573e+03 -1.03313405e+04 -1.56077228e+04\n",
      " -5.66593673e+03  1.18053458e+04 -3.36176997e+03 -3.09769846e+03\n",
      "  1.44787646e+04 -2.20164739e+04 -5.08082835e+03 -9.21483252e+02\n",
      " -4.89445818e+03  4.06957466e+02  2.32062097e+03 -2.54903058e+03\n",
      "  3.79175020e+03  4.01257432e+03 -1.53398256e+04 -3.41876718e+03\n",
      " -3.07581847e+03 -9.14033355e+03 -8.33329859e+03 -1.28999134e+04\n",
      " -5.75031245e+03  2.00305721e+03  1.01598304e+04 -9.48032800e+03\n",
      "  2.38545121e+03  2.27246527e+03 -9.53261670e+02  9.26184647e+03\n",
      "  5.74708547e+03 -2.09122532e+03 -5.30702908e+03  1.33611754e+04\n",
      " -4.95405478e+02  1.06361618e+04  3.37262271e+03 -1.47998511e+04\n",
      " -4.43838500e+03 -1.03364183e+04 -4.87504128e+03  3.71257064e+03\n",
      "  4.49043093e+03  6.02131753e+03 -1.44944371e+04  4.74856070e+03\n",
      " -1.16764445e+04 -1.72714061e+03  9.26529331e+02  4.25668693e+03\n",
      " -1.07057721e+04 -9.28466740e+03 -1.66237729e+03 -1.04099330e+04\n",
      "  7.80449005e+03 -4.12001917e+02 -1.07433333e+04  1.42325084e+04\n",
      " -7.20425164e+03 -4.49381590e+03 -2.74306262e+03 -3.70647432e+03\n",
      " -5.68407584e+03 -5.02327137e+02  6.21999714e+03 -1.41240358e+03\n",
      " -4.83482383e+03 -8.14612514e+03  9.80336640e+01  2.81561801e+03\n",
      "  1.31839105e+04 -3.98745633e+03 -8.33206364e+03  2.41030722e+03\n",
      "  9.13687121e+03 -3.13583124e+03 -1.71269976e+03  1.28429953e+04\n",
      "  1.21079394e+04 -1.29418198e+04  5.03717743e+03 -3.56101651e+02\n",
      " -7.91785485e+03 -1.25517343e+04  8.51894261e+03 -8.44144583e+02\n",
      " -2.31026850e+04  6.12527166e+03 -1.45957047e+03  3.38531722e+03\n",
      "  7.96908627e+03 -4.26376783e+03 -6.66504909e+03  7.00174014e+03\n",
      "  9.71681172e+03  6.13197453e+02 -3.32617891e+03 -5.22510243e+03\n",
      "  1.93415833e+03 -2.84555383e+03 -8.22628741e+03 -1.22503125e+03\n",
      " -8.97723863e+03  1.43551988e+04  1.65516053e+04 -1.61916858e+04\n",
      "  9.03560225e+03 -6.83308771e+03 -8.87497494e+02  2.41264038e+03\n",
      "  1.61042581e+04  9.70788678e+03 -1.33623833e+04  2.42785208e+03\n",
      "  8.14054601e+02 -5.54276726e+03 -2.11942631e+03 -5.34466665e+02\n",
      " -3.45223127e+02 -2.37817617e+04 -3.21618207e+03  6.57048008e+02\n",
      " -9.33310623e+03  4.03557532e+03 -1.59060264e+03 -1.71861625e+02\n",
      " -2.98430936e+03  7.27465248e+03  3.86319027e+03  1.15780275e+03\n",
      " -8.68496105e+03  1.38264924e+04 -3.60875475e+03 -1.00593404e+04\n",
      " -5.66710608e+03 -1.70473893e+04  1.19240811e+03 -1.40794644e+04\n",
      " -5.23217764e+03  1.04679006e+03  9.86081115e+03  7.28530018e+03\n",
      " -1.21219748e+04 -2.12414868e+03 -9.68361374e+03 -6.51286400e+03\n",
      " -8.94568830e+02  2.64239045e+03  1.22918201e+03 -6.40127641e+03\n",
      "  4.08209916e+03 -1.44839382e+04 -9.26335119e+03  4.82664406e+02\n",
      "  4.04550277e+03 -1.27481225e+04  5.67854953e+03 -7.16977980e+03\n",
      "  1.15674610e+04 -6.66502411e+03 -3.90615062e+03 -1.25398321e+04\n",
      "  1.42294683e+03 -1.06336909e+04 -1.70833349e+02 -3.68162808e+03\n",
      "  7.68870108e+03  3.05092001e+03 -8.22103611e+03  1.50269100e+03\n",
      "  6.79053293e+03  1.90944455e+03 -2.55131664e+02 -1.35336150e+01\n",
      "  5.52475298e+02 -7.89368003e+02  7.93143981e+02 -5.33228767e+03\n",
      "  3.35110887e+02 -5.28372407e+03  2.46322994e+03  1.39524057e+04\n",
      "  1.34034495e+03  5.15260627e+03  3.77160754e+03  8.71195683e+03\n",
      " -2.80229043e+03 -7.30243326e+03 -6.62806766e+03 -2.74561219e+03\n",
      "  5.56002602e+03  2.38051739e+03 -7.98770502e+02 -9.91941900e+03]\n"
     ]
    }
   ],
   "source": [
    "def flatten(img, target_size):\n",
    "    #so this converts the image map to a vector of a specified size, this is done by mulitplying it with a weight matrix\n",
    "    vector = img.flatten()\n",
    "    \n",
    "\n",
    "    transform_vector = np.random.randn(target_size, vector.shape[0])\n",
    "\n",
    "    transformed_flattened = transform_vector @ vector\n",
    "\n",
    "    return transformed_flattened\n",
    "\n",
    "        \n",
    "img = training_data[12]\n",
    "print(flatten(img, 200))"
   ]
  },
  {
   "cell_type": "markdown",
   "metadata": {},
   "source": [
    "<font size = \"6\">Question 6: MLP Function<font size= \"6\">"
   ]
  },
  {
   "cell_type": "code",
   "execution_count": 59,
   "metadata": {},
   "outputs": [
    {
     "name": "stdout",
     "output_type": "stream",
     "text": [
      "without softmax:\n",
      "[ -88.94812844 -453.01514422  232.85051971 -858.85974221 -335.00529094\n",
      "  255.84108373 -736.13829432  331.27354602 -375.31442105  511.13159375]\n",
      "With softmax:\n",
      "[0.00000000e+000 0.00000000e+000 0.00000000e+000 4.12962089e-208\n",
      " 4.84760921e-210 2.30794073e-199 0.00000000e+000 0.00000000e+000\n",
      " 1.99241659e-237 1.00000000e+000]\n"
     ]
    }
   ],
   "source": [
    "def softmax(input):\n",
    "    return np.exp(input - np.max(input)) / np.sum(np.exp(input-np.max(input)))    #this is done to prevent overflow\n",
    "\n",
    "def sigmoid_MLP(input): # * This is done because the previously defined sigmoid function was corrected to give integer pixel values i.e 0 to 255. This is the regular sigmoid function on real valued inputs with real valued outputs\n",
    "    return 1 / ( 1 + np.exp(-input))\n",
    "\n",
    "def MLP(input, num_layers, layer_sizes, output_size, nlfunction, softmax_op=False):\n",
    "    \n",
    "    output = input\n",
    "    layers_input_sizes = np.concatenate((np.array([input.shape[0]]) , layer_sizes))\n",
    "\n",
    "    for i in range(num_layers):\n",
    "        layer =0.5 * np.random.randn(layers_input_sizes[i], layer_sizes[i])\n",
    "\n",
    "        output = layer.T @ output\n",
    "        output = nlfunction(output)\n",
    "\n",
    "    layer = np.random.randn(layer_sizes[-1], output_size)\n",
    "    output = layer.T @ output\n",
    "\n",
    "    #here we evaluate whether to use softmax or not\n",
    "    if softmax_op:\n",
    "        output = softmax(output)\n",
    "\n",
    "    return output\n",
    "\n",
    "inp = np.random.uniform(low = -5, high = 5, size = 300)\n",
    "\n",
    "#2 hidden layers\n",
    "nl = 2\n",
    "ls = np.array([100, 40])\n",
    "ops = 10\n",
    "x = MLP(inp, nl, ls, ops, relu, softmax_op=True)\n",
    "\n",
    "x1 = MLP(inp, nl, ls, ops, relu, softmax_op=False)\n",
    "#softmax is working, the input does seem like there is a high degree of confidence\n",
    "print(\"without softmax:\")\n",
    "print(x1)\n",
    "print(\"With softmax:\")\n",
    "print(x)\n",
    "\n"
   ]
  },
  {
   "cell_type": "markdown",
   "metadata": {},
   "source": [
    "<font size = \"6\">Question 7: CNN Feed Forward Pipeline<font size= \"6\">"
   ]
  },
  {
   "cell_type": "code",
   "execution_count": 60,
   "metadata": {},
   "outputs": [
    {
     "name": "stderr",
     "output_type": "stream",
     "text": [
      "C:\\Users\\Home\\AppData\\Local\\Temp\\ipykernel_16768\\878025512.py:3: RuntimeWarning: overflow encountered in exp\n",
      "  return (255 * (1 / (1 + np.exp(-x)))).astype(int)\n"
     ]
    },
    {
     "name": "stdout",
     "output_type": "stream",
     "text": [
      "output of CNN feed forward path:\n",
      "[0.05327733 0.13069137 0.29352032 0.16415759 0.12073768 0.03024645\n",
      " 0.05210574 0.12238921 0.00485392 0.02802041]\n"
     ]
    }
   ],
   "source": [
    "#we will pass the img to this pipeline\n",
    "def empty():#function for the global average pooling layer call, since it did not seem appropriate to give a regular pooling function knowing it would never be used anyway\n",
    "            #since the implementation of GAP done by me does not use any of the other parameters of the function call if the GAP value is set to True\n",
    "    return 0\n",
    "def feed_forward_CNN(img):\n",
    "    \n",
    "    #generate kernels \n",
    "    kernels1 = np.random.randn(16,3,3)\n",
    "    convimg1 = convolution_layer(img, kernels1, kernels1.shape, np.ones((16,2)), np.zeros((16,2)), sigmoid)\n",
    "    \n",
    "    poolimg1 = pooling_layer(convimg1, max_pool_2x2, [2,2], [2,2], GAP=False)\n",
    "    \n",
    "    #generate more kernels (ideally these are learnt, but since there's no implementation of learning required they are randomly generated for now)\n",
    "    #these can be global variables, or they can be object fields if these functions are combined into a class\n",
    "    kernels2 = np.random.randn(8,3,3)\n",
    "    convimg2 = convolution_layer(poolimg1, kernels2, kernels2.shape, np.ones((8,2)), np.zeros((8,2)), sigmoid)\n",
    "    \n",
    "    poolimg2 = pooling_layer(convimg2, max_pool_2x2, [2,2], [2,2], GAP=False)\n",
    "\n",
    "    GAPimg = pooling_layer(poolimg2, empty, 0, 0, GAP=True) #the output of this should be 8x1\n",
    "\n",
    "    output = MLP(GAPimg, 1, np.asarray([GAPimg.shape[0]]), 10, sigmoid_MLP, softmax_op=True)\n",
    "\n",
    "    return GAPimg, output #this is for use during section 8b\n",
    "\n",
    "img = training_data[13]\n",
    "_, img_op = feed_forward_CNN(img)\n",
    "\n",
    "print(\"output of CNN feed forward path:\")\n",
    "print(img_op)"
   ]
  },
  {
   "cell_type": "markdown",
   "metadata": {},
   "source": [
    "<font size = \"6\">Question 8a: CNN Feed Forward Output on Different Classes<font size= \"6\">"
   ]
  },
  {
   "cell_type": "code",
   "execution_count": 61,
   "metadata": {},
   "outputs": [
    {
     "name": "stderr",
     "output_type": "stream",
     "text": [
      "C:\\Users\\Home\\AppData\\Local\\Temp\\ipykernel_16768\\878025512.py:3: RuntimeWarning: overflow encountered in exp\n",
      "  return (255 * (1 / (1 + np.exp(-x)))).astype(int)\n"
     ]
    },
    {
     "name": "stdout",
     "output_type": "stream",
     "text": [
      "[0.40709102 0.13178002 0.00284025 0.00268841 0.40868399 0.00754981\n",
      " 0.00911151 0.01757538 0.00524712 0.00743249]\n",
      "airplane\n",
      "max index is :4\n",
      "[1.64882747e-04 5.33313660e-04 1.10001761e-02 8.65471505e-01\n",
      " 1.33057444e-02 7.96467620e-02 1.85974932e-03 6.50585047e-03\n",
      " 1.42669537e-02 7.24506271e-03]\n",
      "automobile\n",
      "max index is :3\n",
      "[0.08773278 0.41659635 0.00805506 0.01147657 0.01361753 0.00466377\n",
      " 0.27763309 0.06682417 0.02679183 0.08660886]\n",
      "bird\n",
      "max index is :1\n",
      "[0.07092366 0.00411939 0.05726637 0.00406789 0.00090986 0.0301634\n",
      " 0.37300023 0.15819377 0.12668422 0.17467122]\n",
      "cat\n",
      "max index is :6\n",
      "[0.09657048 0.00298086 0.37886115 0.00443533 0.00436513 0.20225633\n",
      " 0.02287431 0.03673262 0.22364546 0.02727833]\n",
      "deer\n",
      "max index is :2\n",
      "[0.08735879 0.01674262 0.15489819 0.07838355 0.17023534 0.06682479\n",
      " 0.28645142 0.00340663 0.09544489 0.04025377]\n",
      "dog\n",
      "max index is :6\n",
      "[0.01355566 0.15308216 0.17795059 0.0140732  0.02952808 0.21096792\n",
      " 0.08515604 0.04311705 0.0408248  0.2317445 ]\n",
      "frog\n",
      "max index is :9\n",
      "[9.72063357e-01 1.33596625e-03 1.19621768e-02 1.04430056e-03\n",
      " 1.08848527e-03 3.81886043e-04 2.80437819e-04 2.16225045e-03\n",
      " 9.59538873e-03 8.57513350e-05]\n",
      "horse\n",
      "max index is :0\n",
      "[1.43386699e-02 2.57444233e-03 3.78986829e-01 7.52278600e-04\n",
      " 2.25764189e-04 3.38947740e-01 1.90341455e-01 4.72144939e-03\n",
      " 1.15626858e-03 6.79551033e-02]\n",
      "ship\n",
      "max index is :2\n",
      "[0.01878    0.56001729 0.00199651 0.11549528 0.11129049 0.00869328\n",
      " 0.01506332 0.07151671 0.0365586  0.06058853]\n",
      "truck\n",
      "max index is :1\n"
     ]
    }
   ],
   "source": [
    "data_each_class = [30, 4, 6,9, 3, 27, 0, 7, 8, 1] #index numbers in training_data for images belonging to the classes, the labels of these images are the same as the order of labels in labels[]\\\n",
    "\n",
    "output_vectors = []\n",
    "for i in range(len(data_each_class)):\n",
    "    flattened_op, outputs = feed_forward_CNN(training_data[data_each_class[i]])\n",
    "    output_vectors.append(outputs)\n",
    "\n",
    "\n",
    "for i in range(10):\n",
    "    print(output_vectors[i])\n",
    "    print(labels[training_labels[data_each_class[i]]])\n",
    "    print(\"max index is :\" + str(np.argmax(output_vectors[i])))"
   ]
  },
  {
   "cell_type": "markdown",
   "metadata": {},
   "source": [
    "No significant trends were seen in the classification. This is probably because all of the parameters of the CNN were randomly initialized on feed-forward, therefore there is no learning being done before any of the passes. "
   ]
  }
 ],
 "metadata": {
  "kernelspec": {
   "display_name": "Python 3.9.13 ('base')",
   "language": "python",
   "name": "python3"
  },
  "language_info": {
   "codemirror_mode": {
    "name": "ipython",
    "version": 3
   },
   "file_extension": ".py",
   "mimetype": "text/x-python",
   "name": "python",
   "nbconvert_exporter": "python",
   "pygments_lexer": "ipython3",
   "version": "3.9.13"
  },
  "orig_nbformat": 4,
  "vscode": {
   "interpreter": {
    "hash": "ad2bdc8ecc057115af97d19610ffacc2b4e99fae6737bb82f5d7fb13d2f2c186"
   }
  }
 },
 "nbformat": 4,
 "nbformat_minor": 2
}
